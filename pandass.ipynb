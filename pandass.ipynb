{
  "nbformat": 4,
  "nbformat_minor": 0,
  "metadata": {
    "colab": {
      "name": "Untitled1.ipynb",
      "provenance": [],
      "authorship_tag": "ABX9TyMX+NTiL2mCl8QzpR7cnWxp",
      "include_colab_link": true
    },
    "kernelspec": {
      "name": "python3",
      "display_name": "Python 3"
    }
  },
  "cells": [
    {
      "cell_type": "markdown",
      "metadata": {
        "id": "view-in-github",
        "colab_type": "text"
      },
      "source": [
        "<a href=\"https://colab.research.google.com/github/mohammadmujib/rookie-hacks/blob/master/pandass.ipynb\" target=\"_parent\"><img src=\"https://colab.research.google.com/assets/colab-badge.svg\" alt=\"Open In Colab\"/></a>"
      ]
    },
    {
      "cell_type": "code",
      "metadata": {
        "id": "7HWBLapNLVXZ",
        "colab_type": "code",
        "colab": {}
      },
      "source": [
        "import pandas as pd\n",
        "import numpy as np\n",
        "import datetime"
      ],
      "execution_count": 0,
      "outputs": []
    },
    {
      "cell_type": "code",
      "metadata": {
        "id": "FnZqlabhMC7O",
        "colab_type": "code",
        "colab": {}
      },
      "source": [
        "df = pd.read_csv(\"hdfc.csv\")"
      ],
      "execution_count": 0,
      "outputs": []
    },
    {
      "cell_type": "code",
      "metadata": {
        "id": "dn2sd2DxMQGv",
        "colab_type": "code",
        "colab": {
          "base_uri": "https://localhost:8080/",
          "height": 287
        },
        "outputId": "36e98773-37a2-44a7-9365-ae5033dfedfd"
      },
      "source": [
        "print(df.dtype)"
      ],
      "execution_count": 3,
      "outputs": [
        {
          "output_type": "error",
          "ename": "AttributeError",
          "evalue": "ignored",
          "traceback": [
            "\u001b[0;31m---------------------------------------------------------------------------\u001b[0m",
            "\u001b[0;31mAttributeError\u001b[0m                            Traceback (most recent call last)",
            "\u001b[0;32m<ipython-input-3-5806896f1203>\u001b[0m in \u001b[0;36m<module>\u001b[0;34m()\u001b[0m\n\u001b[0;32m----> 1\u001b[0;31m \u001b[0mprint\u001b[0m\u001b[0;34m(\u001b[0m\u001b[0mdf\u001b[0m\u001b[0;34m.\u001b[0m\u001b[0mdtype\u001b[0m\u001b[0;34m)\u001b[0m\u001b[0;34m\u001b[0m\u001b[0;34m\u001b[0m\u001b[0m\n\u001b[0m",
            "\u001b[0;32m/usr/local/lib/python3.6/dist-packages/pandas/core/generic.py\u001b[0m in \u001b[0;36m__getattr__\u001b[0;34m(self, name)\u001b[0m\n\u001b[1;32m   5272\u001b[0m             \u001b[0;32mif\u001b[0m \u001b[0mself\u001b[0m\u001b[0;34m.\u001b[0m\u001b[0m_info_axis\u001b[0m\u001b[0;34m.\u001b[0m\u001b[0m_can_hold_identifiers_and_holds_name\u001b[0m\u001b[0;34m(\u001b[0m\u001b[0mname\u001b[0m\u001b[0;34m)\u001b[0m\u001b[0;34m:\u001b[0m\u001b[0;34m\u001b[0m\u001b[0;34m\u001b[0m\u001b[0m\n\u001b[1;32m   5273\u001b[0m                 \u001b[0;32mreturn\u001b[0m \u001b[0mself\u001b[0m\u001b[0;34m[\u001b[0m\u001b[0mname\u001b[0m\u001b[0;34m]\u001b[0m\u001b[0;34m\u001b[0m\u001b[0;34m\u001b[0m\u001b[0m\n\u001b[0;32m-> 5274\u001b[0;31m             \u001b[0;32mreturn\u001b[0m \u001b[0mobject\u001b[0m\u001b[0;34m.\u001b[0m\u001b[0m__getattribute__\u001b[0m\u001b[0;34m(\u001b[0m\u001b[0mself\u001b[0m\u001b[0;34m,\u001b[0m \u001b[0mname\u001b[0m\u001b[0;34m)\u001b[0m\u001b[0;34m\u001b[0m\u001b[0;34m\u001b[0m\u001b[0m\n\u001b[0m\u001b[1;32m   5275\u001b[0m \u001b[0;34m\u001b[0m\u001b[0m\n\u001b[1;32m   5276\u001b[0m     \u001b[0;32mdef\u001b[0m \u001b[0m__setattr__\u001b[0m\u001b[0;34m(\u001b[0m\u001b[0mself\u001b[0m\u001b[0;34m,\u001b[0m \u001b[0mname\u001b[0m\u001b[0;34m:\u001b[0m \u001b[0mstr\u001b[0m\u001b[0;34m,\u001b[0m \u001b[0mvalue\u001b[0m\u001b[0;34m)\u001b[0m \u001b[0;34m->\u001b[0m \u001b[0;32mNone\u001b[0m\u001b[0;34m:\u001b[0m\u001b[0;34m\u001b[0m\u001b[0;34m\u001b[0m\u001b[0m\n",
            "\u001b[0;31mAttributeError\u001b[0m: 'DataFrame' object has no attribute 'dtype'"
          ]
        }
      ]
    },
    {
      "cell_type": "code",
      "metadata": {
        "id": "RdHt2NNGMasl",
        "colab_type": "code",
        "colab": {
          "base_uri": "https://localhost:8080/",
          "height": 415
        },
        "outputId": "6e096886-596e-452f-e3e3-ba0e916928ee"
      },
      "source": [
        "df"
      ],
      "execution_count": 4,
      "outputs": [
        {
          "output_type": "execute_result",
          "data": {
            "text/html": [
              "<div>\n",
              "<style scoped>\n",
              "    .dataframe tbody tr th:only-of-type {\n",
              "        vertical-align: middle;\n",
              "    }\n",
              "\n",
              "    .dataframe tbody tr th {\n",
              "        vertical-align: top;\n",
              "    }\n",
              "\n",
              "    .dataframe thead th {\n",
              "        text-align: right;\n",
              "    }\n",
              "</style>\n",
              "<table border=\"1\" class=\"dataframe\">\n",
              "  <thead>\n",
              "    <tr style=\"text-align: right;\">\n",
              "      <th></th>\n",
              "      <th>SYMBOL</th>\n",
              "      <th>INTERVAL</th>\n",
              "      <th>DATE</th>\n",
              "      <th>OPEN</th>\n",
              "      <th>HIGH</th>\n",
              "      <th>LOW</th>\n",
              "      <th>CLOSE</th>\n",
              "      <th>VOLUME</th>\n",
              "    </tr>\n",
              "  </thead>\n",
              "  <tbody>\n",
              "    <tr>\n",
              "      <th>0</th>\n",
              "      <td>HDFC.NS</td>\n",
              "      <td>D</td>\n",
              "      <td>11/3/1994 00:00:00</td>\n",
              "      <td>2.70</td>\n",
              "      <td>2.750</td>\n",
              "      <td>2.675</td>\n",
              "      <td>2.7100</td>\n",
              "      <td>9.000000e+04</td>\n",
              "    </tr>\n",
              "    <tr>\n",
              "      <th>1</th>\n",
              "      <td>HDFC.NS</td>\n",
              "      <td>D</td>\n",
              "      <td>11/7/1994 00:00:00</td>\n",
              "      <td>2.67</td>\n",
              "      <td>2.670</td>\n",
              "      <td>2.651</td>\n",
              "      <td>2.6510</td>\n",
              "      <td>2.000000e+04</td>\n",
              "    </tr>\n",
              "    <tr>\n",
              "      <th>2</th>\n",
              "      <td>HDFC.NS</td>\n",
              "      <td>D</td>\n",
              "      <td>11/8/1994 00:00:00</td>\n",
              "      <td>2.75</td>\n",
              "      <td>2.775</td>\n",
              "      <td>2.750</td>\n",
              "      <td>2.7750</td>\n",
              "      <td>7.000000e+04</td>\n",
              "    </tr>\n",
              "    <tr>\n",
              "      <th>3</th>\n",
              "      <td>HDFC.NS</td>\n",
              "      <td>D</td>\n",
              "      <td>11/10/1994 00:00:00</td>\n",
              "      <td>2.80</td>\n",
              "      <td>2.800</td>\n",
              "      <td>2.800</td>\n",
              "      <td>2.8000</td>\n",
              "      <td>1.000000e+04</td>\n",
              "    </tr>\n",
              "    <tr>\n",
              "      <th>4</th>\n",
              "      <td>HDFC.NS</td>\n",
              "      <td>D</td>\n",
              "      <td>11/11/1994 00:00:00</td>\n",
              "      <td>2.75</td>\n",
              "      <td>2.775</td>\n",
              "      <td>2.750</td>\n",
              "      <td>2.7675</td>\n",
              "      <td>4.000000e+04</td>\n",
              "    </tr>\n",
              "    <tr>\n",
              "      <th>...</th>\n",
              "      <td>...</td>\n",
              "      <td>...</td>\n",
              "      <td>...</td>\n",
              "      <td>...</td>\n",
              "      <td>...</td>\n",
              "      <td>...</td>\n",
              "      <td>...</td>\n",
              "      <td>...</td>\n",
              "    </tr>\n",
              "    <tr>\n",
              "      <th>6346</th>\n",
              "      <td>HDFC.NS</td>\n",
              "      <td>D</td>\n",
              "      <td>5/27/2020 12:00:00 AM</td>\n",
              "      <td>1513.00</td>\n",
              "      <td>1578.000</td>\n",
              "      <td>1490.000</td>\n",
              "      <td>1570.4000</td>\n",
              "      <td>1.242843e+07</td>\n",
              "    </tr>\n",
              "    <tr>\n",
              "      <th>6347</th>\n",
              "      <td>HDFC.NS</td>\n",
              "      <td>D</td>\n",
              "      <td>5/28/2020 12:00:00 AM</td>\n",
              "      <td>1580.00</td>\n",
              "      <td>1643.800</td>\n",
              "      <td>1577.000</td>\n",
              "      <td>1623.7000</td>\n",
              "      <td>1.026203e+07</td>\n",
              "    </tr>\n",
              "    <tr>\n",
              "      <th>6348</th>\n",
              "      <td>HDFC.NS</td>\n",
              "      <td>D</td>\n",
              "      <td>5/29/2020 12:00:00 AM</td>\n",
              "      <td>1615.90</td>\n",
              "      <td>1676.350</td>\n",
              "      <td>1590.900</td>\n",
              "      <td>1658.9000</td>\n",
              "      <td>1.380910e+07</td>\n",
              "    </tr>\n",
              "    <tr>\n",
              "      <th>6349</th>\n",
              "      <td>HDFC.NS</td>\n",
              "      <td>D</td>\n",
              "      <td>6/1/2020 00:00:00</td>\n",
              "      <td>1706.60</td>\n",
              "      <td>1764.850</td>\n",
              "      <td>1701.300</td>\n",
              "      <td>1737.7000</td>\n",
              "      <td>8.056778e+06</td>\n",
              "    </tr>\n",
              "    <tr>\n",
              "      <th>6350</th>\n",
              "      <td>HDFC.NS</td>\n",
              "      <td>D</td>\n",
              "      <td>6/2/2020 00:00:00</td>\n",
              "      <td>1737.70</td>\n",
              "      <td>1783.800</td>\n",
              "      <td>1732.150</td>\n",
              "      <td>1757.5000</td>\n",
              "      <td>1.747680e+06</td>\n",
              "    </tr>\n",
              "  </tbody>\n",
              "</table>\n",
              "<p>6351 rows × 8 columns</p>\n",
              "</div>"
            ],
            "text/plain": [
              "       SYMBOL INTERVAL  ...      CLOSE        VOLUME\n",
              "0     HDFC.NS        D  ...     2.7100  9.000000e+04\n",
              "1     HDFC.NS        D  ...     2.6510  2.000000e+04\n",
              "2     HDFC.NS        D  ...     2.7750  7.000000e+04\n",
              "3     HDFC.NS        D  ...     2.8000  1.000000e+04\n",
              "4     HDFC.NS        D  ...     2.7675  4.000000e+04\n",
              "...       ...      ...  ...        ...           ...\n",
              "6346  HDFC.NS        D  ...  1570.4000  1.242843e+07\n",
              "6347  HDFC.NS        D  ...  1623.7000  1.026203e+07\n",
              "6348  HDFC.NS        D  ...  1658.9000  1.380910e+07\n",
              "6349  HDFC.NS        D  ...  1737.7000  8.056778e+06\n",
              "6350  HDFC.NS        D  ...  1757.5000  1.747680e+06\n",
              "\n",
              "[6351 rows x 8 columns]"
            ]
          },
          "metadata": {
            "tags": []
          },
          "execution_count": 4
        }
      ]
    },
    {
      "cell_type": "code",
      "metadata": {
        "id": "X7-dXIoWM201",
        "colab_type": "code",
        "colab": {}
      },
      "source": [
        "DF = df.drop(['SYMBOL','INTERVAL'],axis=1)"
      ],
      "execution_count": 0,
      "outputs": []
    },
    {
      "cell_type": "code",
      "metadata": {
        "id": "RX9zqSukNHb-",
        "colab_type": "code",
        "colab": {
          "base_uri": "https://localhost:8080/",
          "height": 415
        },
        "outputId": "5a99ebdd-9d9c-405a-aa57-80dcca23223e"
      },
      "source": [
        "DF"
      ],
      "execution_count": 6,
      "outputs": [
        {
          "output_type": "execute_result",
          "data": {
            "text/html": [
              "<div>\n",
              "<style scoped>\n",
              "    .dataframe tbody tr th:only-of-type {\n",
              "        vertical-align: middle;\n",
              "    }\n",
              "\n",
              "    .dataframe tbody tr th {\n",
              "        vertical-align: top;\n",
              "    }\n",
              "\n",
              "    .dataframe thead th {\n",
              "        text-align: right;\n",
              "    }\n",
              "</style>\n",
              "<table border=\"1\" class=\"dataframe\">\n",
              "  <thead>\n",
              "    <tr style=\"text-align: right;\">\n",
              "      <th></th>\n",
              "      <th>DATE</th>\n",
              "      <th>OPEN</th>\n",
              "      <th>HIGH</th>\n",
              "      <th>LOW</th>\n",
              "      <th>CLOSE</th>\n",
              "      <th>VOLUME</th>\n",
              "    </tr>\n",
              "  </thead>\n",
              "  <tbody>\n",
              "    <tr>\n",
              "      <th>0</th>\n",
              "      <td>11/3/1994 00:00:00</td>\n",
              "      <td>2.70</td>\n",
              "      <td>2.750</td>\n",
              "      <td>2.675</td>\n",
              "      <td>2.7100</td>\n",
              "      <td>9.000000e+04</td>\n",
              "    </tr>\n",
              "    <tr>\n",
              "      <th>1</th>\n",
              "      <td>11/7/1994 00:00:00</td>\n",
              "      <td>2.67</td>\n",
              "      <td>2.670</td>\n",
              "      <td>2.651</td>\n",
              "      <td>2.6510</td>\n",
              "      <td>2.000000e+04</td>\n",
              "    </tr>\n",
              "    <tr>\n",
              "      <th>2</th>\n",
              "      <td>11/8/1994 00:00:00</td>\n",
              "      <td>2.75</td>\n",
              "      <td>2.775</td>\n",
              "      <td>2.750</td>\n",
              "      <td>2.7750</td>\n",
              "      <td>7.000000e+04</td>\n",
              "    </tr>\n",
              "    <tr>\n",
              "      <th>3</th>\n",
              "      <td>11/10/1994 00:00:00</td>\n",
              "      <td>2.80</td>\n",
              "      <td>2.800</td>\n",
              "      <td>2.800</td>\n",
              "      <td>2.8000</td>\n",
              "      <td>1.000000e+04</td>\n",
              "    </tr>\n",
              "    <tr>\n",
              "      <th>4</th>\n",
              "      <td>11/11/1994 00:00:00</td>\n",
              "      <td>2.75</td>\n",
              "      <td>2.775</td>\n",
              "      <td>2.750</td>\n",
              "      <td>2.7675</td>\n",
              "      <td>4.000000e+04</td>\n",
              "    </tr>\n",
              "    <tr>\n",
              "      <th>...</th>\n",
              "      <td>...</td>\n",
              "      <td>...</td>\n",
              "      <td>...</td>\n",
              "      <td>...</td>\n",
              "      <td>...</td>\n",
              "      <td>...</td>\n",
              "    </tr>\n",
              "    <tr>\n",
              "      <th>6346</th>\n",
              "      <td>5/27/2020 12:00:00 AM</td>\n",
              "      <td>1513.00</td>\n",
              "      <td>1578.000</td>\n",
              "      <td>1490.000</td>\n",
              "      <td>1570.4000</td>\n",
              "      <td>1.242843e+07</td>\n",
              "    </tr>\n",
              "    <tr>\n",
              "      <th>6347</th>\n",
              "      <td>5/28/2020 12:00:00 AM</td>\n",
              "      <td>1580.00</td>\n",
              "      <td>1643.800</td>\n",
              "      <td>1577.000</td>\n",
              "      <td>1623.7000</td>\n",
              "      <td>1.026203e+07</td>\n",
              "    </tr>\n",
              "    <tr>\n",
              "      <th>6348</th>\n",
              "      <td>5/29/2020 12:00:00 AM</td>\n",
              "      <td>1615.90</td>\n",
              "      <td>1676.350</td>\n",
              "      <td>1590.900</td>\n",
              "      <td>1658.9000</td>\n",
              "      <td>1.380910e+07</td>\n",
              "    </tr>\n",
              "    <tr>\n",
              "      <th>6349</th>\n",
              "      <td>6/1/2020 00:00:00</td>\n",
              "      <td>1706.60</td>\n",
              "      <td>1764.850</td>\n",
              "      <td>1701.300</td>\n",
              "      <td>1737.7000</td>\n",
              "      <td>8.056778e+06</td>\n",
              "    </tr>\n",
              "    <tr>\n",
              "      <th>6350</th>\n",
              "      <td>6/2/2020 00:00:00</td>\n",
              "      <td>1737.70</td>\n",
              "      <td>1783.800</td>\n",
              "      <td>1732.150</td>\n",
              "      <td>1757.5000</td>\n",
              "      <td>1.747680e+06</td>\n",
              "    </tr>\n",
              "  </tbody>\n",
              "</table>\n",
              "<p>6351 rows × 6 columns</p>\n",
              "</div>"
            ],
            "text/plain": [
              "                       DATE     OPEN  ...      CLOSE        VOLUME\n",
              "0        11/3/1994 00:00:00     2.70  ...     2.7100  9.000000e+04\n",
              "1        11/7/1994 00:00:00     2.67  ...     2.6510  2.000000e+04\n",
              "2        11/8/1994 00:00:00     2.75  ...     2.7750  7.000000e+04\n",
              "3       11/10/1994 00:00:00     2.80  ...     2.8000  1.000000e+04\n",
              "4       11/11/1994 00:00:00     2.75  ...     2.7675  4.000000e+04\n",
              "...                     ...      ...  ...        ...           ...\n",
              "6346  5/27/2020 12:00:00 AM  1513.00  ...  1570.4000  1.242843e+07\n",
              "6347  5/28/2020 12:00:00 AM  1580.00  ...  1623.7000  1.026203e+07\n",
              "6348  5/29/2020 12:00:00 AM  1615.90  ...  1658.9000  1.380910e+07\n",
              "6349      6/1/2020 00:00:00  1706.60  ...  1737.7000  8.056778e+06\n",
              "6350      6/2/2020 00:00:00  1737.70  ...  1757.5000  1.747680e+06\n",
              "\n",
              "[6351 rows x 6 columns]"
            ]
          },
          "metadata": {
            "tags": []
          },
          "execution_count": 6
        }
      ]
    },
    {
      "cell_type": "code",
      "metadata": {
        "id": "AxTk-E-xNIiE",
        "colab_type": "code",
        "colab": {
          "base_uri": "https://localhost:8080/",
          "height": 225
        },
        "outputId": "821afccf-e97e-4a8f-e2af-0b6d45c7ec12"
      },
      "source": [
        "DF['DATE']"
      ],
      "execution_count": 13,
      "outputs": [
        {
          "output_type": "execute_result",
          "data": {
            "text/plain": [
              "0      1994-11-03\n",
              "1      1994-11-07\n",
              "2      1994-11-08\n",
              "3      1994-11-10\n",
              "4      1994-11-11\n",
              "          ...    \n",
              "6346   2020-05-27\n",
              "6347   2020-05-28\n",
              "6348   2020-05-29\n",
              "6349   2020-06-01\n",
              "6350   2020-06-02\n",
              "Name: DATE, Length: 6351, dtype: datetime64[ns]"
            ]
          },
          "metadata": {
            "tags": []
          },
          "execution_count": 13
        }
      ]
    },
    {
      "cell_type": "code",
      "metadata": {
        "id": "2b9HqKKrNOTh",
        "colab_type": "code",
        "colab": {}
      },
      "source": [
        "DF['DATE'] = pd.to_datetime(DF['DATE'])"
      ],
      "execution_count": 0,
      "outputs": []
    },
    {
      "cell_type": "code",
      "metadata": {
        "id": "5QZsw5lJNkFd",
        "colab_type": "code",
        "colab": {
          "base_uri": "https://localhost:8080/",
          "height": 415
        },
        "outputId": "ab6fe821-f1ab-4784-cbdd-398f1ff1eb96"
      },
      "source": [
        "DF"
      ],
      "execution_count": 14,
      "outputs": [
        {
          "output_type": "execute_result",
          "data": {
            "text/html": [
              "<div>\n",
              "<style scoped>\n",
              "    .dataframe tbody tr th:only-of-type {\n",
              "        vertical-align: middle;\n",
              "    }\n",
              "\n",
              "    .dataframe tbody tr th {\n",
              "        vertical-align: top;\n",
              "    }\n",
              "\n",
              "    .dataframe thead th {\n",
              "        text-align: right;\n",
              "    }\n",
              "</style>\n",
              "<table border=\"1\" class=\"dataframe\">\n",
              "  <thead>\n",
              "    <tr style=\"text-align: right;\">\n",
              "      <th></th>\n",
              "      <th>DATE</th>\n",
              "      <th>OPEN</th>\n",
              "      <th>HIGH</th>\n",
              "      <th>LOW</th>\n",
              "      <th>CLOSE</th>\n",
              "      <th>VOLUME</th>\n",
              "    </tr>\n",
              "  </thead>\n",
              "  <tbody>\n",
              "    <tr>\n",
              "      <th>0</th>\n",
              "      <td>1994-11-03</td>\n",
              "      <td>2.70</td>\n",
              "      <td>2.750</td>\n",
              "      <td>2.675</td>\n",
              "      <td>2.7100</td>\n",
              "      <td>9.000000e+04</td>\n",
              "    </tr>\n",
              "    <tr>\n",
              "      <th>1</th>\n",
              "      <td>1994-11-07</td>\n",
              "      <td>2.67</td>\n",
              "      <td>2.670</td>\n",
              "      <td>2.651</td>\n",
              "      <td>2.6510</td>\n",
              "      <td>2.000000e+04</td>\n",
              "    </tr>\n",
              "    <tr>\n",
              "      <th>2</th>\n",
              "      <td>1994-11-08</td>\n",
              "      <td>2.75</td>\n",
              "      <td>2.775</td>\n",
              "      <td>2.750</td>\n",
              "      <td>2.7750</td>\n",
              "      <td>7.000000e+04</td>\n",
              "    </tr>\n",
              "    <tr>\n",
              "      <th>3</th>\n",
              "      <td>1994-11-10</td>\n",
              "      <td>2.80</td>\n",
              "      <td>2.800</td>\n",
              "      <td>2.800</td>\n",
              "      <td>2.8000</td>\n",
              "      <td>1.000000e+04</td>\n",
              "    </tr>\n",
              "    <tr>\n",
              "      <th>4</th>\n",
              "      <td>1994-11-11</td>\n",
              "      <td>2.75</td>\n",
              "      <td>2.775</td>\n",
              "      <td>2.750</td>\n",
              "      <td>2.7675</td>\n",
              "      <td>4.000000e+04</td>\n",
              "    </tr>\n",
              "    <tr>\n",
              "      <th>...</th>\n",
              "      <td>...</td>\n",
              "      <td>...</td>\n",
              "      <td>...</td>\n",
              "      <td>...</td>\n",
              "      <td>...</td>\n",
              "      <td>...</td>\n",
              "    </tr>\n",
              "    <tr>\n",
              "      <th>6346</th>\n",
              "      <td>2020-05-27</td>\n",
              "      <td>1513.00</td>\n",
              "      <td>1578.000</td>\n",
              "      <td>1490.000</td>\n",
              "      <td>1570.4000</td>\n",
              "      <td>1.242843e+07</td>\n",
              "    </tr>\n",
              "    <tr>\n",
              "      <th>6347</th>\n",
              "      <td>2020-05-28</td>\n",
              "      <td>1580.00</td>\n",
              "      <td>1643.800</td>\n",
              "      <td>1577.000</td>\n",
              "      <td>1623.7000</td>\n",
              "      <td>1.026203e+07</td>\n",
              "    </tr>\n",
              "    <tr>\n",
              "      <th>6348</th>\n",
              "      <td>2020-05-29</td>\n",
              "      <td>1615.90</td>\n",
              "      <td>1676.350</td>\n",
              "      <td>1590.900</td>\n",
              "      <td>1658.9000</td>\n",
              "      <td>1.380910e+07</td>\n",
              "    </tr>\n",
              "    <tr>\n",
              "      <th>6349</th>\n",
              "      <td>2020-06-01</td>\n",
              "      <td>1706.60</td>\n",
              "      <td>1764.850</td>\n",
              "      <td>1701.300</td>\n",
              "      <td>1737.7000</td>\n",
              "      <td>8.056778e+06</td>\n",
              "    </tr>\n",
              "    <tr>\n",
              "      <th>6350</th>\n",
              "      <td>2020-06-02</td>\n",
              "      <td>1737.70</td>\n",
              "      <td>1783.800</td>\n",
              "      <td>1732.150</td>\n",
              "      <td>1757.5000</td>\n",
              "      <td>1.747680e+06</td>\n",
              "    </tr>\n",
              "  </tbody>\n",
              "</table>\n",
              "<p>6351 rows × 6 columns</p>\n",
              "</div>"
            ],
            "text/plain": [
              "           DATE     OPEN      HIGH       LOW      CLOSE        VOLUME\n",
              "0    1994-11-03     2.70     2.750     2.675     2.7100  9.000000e+04\n",
              "1    1994-11-07     2.67     2.670     2.651     2.6510  2.000000e+04\n",
              "2    1994-11-08     2.75     2.775     2.750     2.7750  7.000000e+04\n",
              "3    1994-11-10     2.80     2.800     2.800     2.8000  1.000000e+04\n",
              "4    1994-11-11     2.75     2.775     2.750     2.7675  4.000000e+04\n",
              "...         ...      ...       ...       ...        ...           ...\n",
              "6346 2020-05-27  1513.00  1578.000  1490.000  1570.4000  1.242843e+07\n",
              "6347 2020-05-28  1580.00  1643.800  1577.000  1623.7000  1.026203e+07\n",
              "6348 2020-05-29  1615.90  1676.350  1590.900  1658.9000  1.380910e+07\n",
              "6349 2020-06-01  1706.60  1764.850  1701.300  1737.7000  8.056778e+06\n",
              "6350 2020-06-02  1737.70  1783.800  1732.150  1757.5000  1.747680e+06\n",
              "\n",
              "[6351 rows x 6 columns]"
            ]
          },
          "metadata": {
            "tags": []
          },
          "execution_count": 14
        }
      ]
    },
    {
      "cell_type": "code",
      "metadata": {
        "id": "9ezV3MzaOCTu",
        "colab_type": "code",
        "colab": {}
      },
      "source": [
        "DF.to_csv('HDFC.csv',index=False)"
      ],
      "execution_count": 0,
      "outputs": []
    },
    {
      "cell_type": "code",
      "metadata": {
        "id": "zfFxivppOeJk",
        "colab_type": "code",
        "colab": {}
      },
      "source": [
        ""
      ],
      "execution_count": 0,
      "outputs": []
    }
  ]
}