{
  "nbformat": 4,
  "nbformat_minor": 0,
  "metadata": {
    "colab": {
      "name": "Untitled0.ipynb",
      "provenance": [],
      "toc_visible": true,
      "authorship_tag": "ABX9TyPfRCsMC0zCpWIPwRf35+J+",
      "include_colab_link": true
    },
    "kernelspec": {
      "name": "python3",
      "display_name": "Python 3"
    }
  },
  "cells": [
    {
      "cell_type": "markdown",
      "metadata": {
        "id": "view-in-github",
        "colab_type": "text"
      },
      "source": [
        "<a href=\"https://colab.research.google.com/github/mohammadmujib/rookie-hacks/blob/master/pandas.ipynb\" target=\"_parent\"><img src=\"https://colab.research.google.com/assets/colab-badge.svg\" alt=\"Open In Colab\"/></a>"
      ]
    },
    {
      "cell_type": "code",
      "metadata": {
        "id": "tsIiGY1V-Qvb",
        "colab_type": "code",
        "colab": {}
      },
      "source": [
        "import pandas as pd"
      ],
      "execution_count": 0,
      "outputs": []
    },
    {
      "cell_type": "code",
      "metadata": {
        "id": "483GAIJg-VeB",
        "colab_type": "code",
        "colab": {
          "base_uri": "https://localhost:8080/",
          "height": 305
        },
        "outputId": "3c93af94-5391-43a7-c65c-ef8117188d07"
      },
      "source": [
        "import backtrader as bt"
      ],
      "execution_count": 2,
      "outputs": [
        {
          "output_type": "error",
          "ename": "ModuleNotFoundError",
          "evalue": "ignored",
          "traceback": [
            "\u001b[0;31m---------------------------------------------------------------------------\u001b[0m",
            "\u001b[0;31mModuleNotFoundError\u001b[0m                       Traceback (most recent call last)",
            "\u001b[0;32m<ipython-input-2-bc54018cb945>\u001b[0m in \u001b[0;36m<module>\u001b[0;34m()\u001b[0m\n\u001b[0;32m----> 1\u001b[0;31m \u001b[0;32mimport\u001b[0m \u001b[0mbacktrader\u001b[0m \u001b[0;32mas\u001b[0m \u001b[0mbt\u001b[0m\u001b[0;34m\u001b[0m\u001b[0;34m\u001b[0m\u001b[0m\n\u001b[0m",
            "\u001b[0;31mModuleNotFoundError\u001b[0m: No module named 'backtrader'",
            "",
            "\u001b[0;31m---------------------------------------------------------------------------\u001b[0;32m\nNOTE: If your import is failing due to a missing package, you can\nmanually install dependencies using either !pip or !apt.\n\nTo view examples of installing some common dependencies, click the\n\"Open Examples\" button below.\n\u001b[0;31m---------------------------------------------------------------------------\u001b[0m\n"
          ]
        }
      ]
    },
    {
      "cell_type": "code",
      "metadata": {
        "id": "33lY2_WF-naw",
        "colab_type": "code",
        "colab": {
          "base_uri": "https://localhost:8080/",
          "height": 124
        },
        "outputId": "cd027de9-3ebd-4980-e83b-bb98c150a6d5"
      },
      "source": [
        "pip install backtrader"
      ],
      "execution_count": 3,
      "outputs": [
        {
          "output_type": "stream",
          "text": [
            "Collecting backtrader\n",
            "\u001b[?25l  Downloading https://files.pythonhosted.org/packages/b6/fe/7d61fd1b4fa367f9cd0a8bdd3ef45f7486374b5234d898cf439a097885f8/backtrader-1.9.75.123-py2.py3-none-any.whl (409kB)\n",
            "\u001b[K     |████████████████████████████████| 419kB 2.7MB/s \n",
            "\u001b[?25hInstalling collected packages: backtrader\n",
            "Successfully installed backtrader-1.9.75.123\n"
          ],
          "name": "stdout"
        }
      ]
    },
    {
      "cell_type": "code",
      "metadata": {
        "id": "EIg6GK3z-wkE",
        "colab_type": "code",
        "colab": {
          "base_uri": "https://localhost:8080/",
          "height": 159
        },
        "outputId": "74753be8-88b4-46cf-8552-5d7a413ccdb9"
      },
      "source": [
        "pip install matplotlib"
      ],
      "execution_count": 4,
      "outputs": [
        {
          "output_type": "stream",
          "text": [
            "Requirement already satisfied: matplotlib in /usr/local/lib/python3.6/dist-packages (3.2.1)\n",
            "Requirement already satisfied: pyparsing!=2.0.4,!=2.1.2,!=2.1.6,>=2.0.1 in /usr/local/lib/python3.6/dist-packages (from matplotlib) (2.4.7)\n",
            "Requirement already satisfied: kiwisolver>=1.0.1 in /usr/local/lib/python3.6/dist-packages (from matplotlib) (1.2.0)\n",
            "Requirement already satisfied: cycler>=0.10 in /usr/local/lib/python3.6/dist-packages (from matplotlib) (0.10.0)\n",
            "Requirement already satisfied: python-dateutil>=2.1 in /usr/local/lib/python3.6/dist-packages (from matplotlib) (2.8.1)\n",
            "Requirement already satisfied: numpy>=1.11 in /usr/local/lib/python3.6/dist-packages (from matplotlib) (1.18.5)\n",
            "Requirement already satisfied: six in /usr/local/lib/python3.6/dist-packages (from cycler>=0.10->matplotlib) (1.12.0)\n"
          ],
          "name": "stdout"
        }
      ]
    },
    {
      "cell_type": "code",
      "metadata": {
        "id": "oSlNL2T1-1-g",
        "colab_type": "code",
        "colab": {}
      },
      "source": [
        "hdfc = pd.read_csv(\"HDFC.csv\")"
      ],
      "execution_count": 0,
      "outputs": []
    },
    {
      "cell_type": "code",
      "metadata": {
        "id": "j5pfUi9V_kSK",
        "colab_type": "code",
        "colab": {
          "base_uri": "https://localhost:8080/",
          "height": 415
        },
        "outputId": "39bbae87-db62-49e6-8442-8f818e2ec1de"
      },
      "source": [
        "hdfc"
      ],
      "execution_count": 6,
      "outputs": [
        {
          "output_type": "execute_result",
          "data": {
            "text/html": [
              "<div>\n",
              "<style scoped>\n",
              "    .dataframe tbody tr th:only-of-type {\n",
              "        vertical-align: middle;\n",
              "    }\n",
              "\n",
              "    .dataframe tbody tr th {\n",
              "        vertical-align: top;\n",
              "    }\n",
              "\n",
              "    .dataframe thead th {\n",
              "        text-align: right;\n",
              "    }\n",
              "</style>\n",
              "<table border=\"1\" class=\"dataframe\">\n",
              "  <thead>\n",
              "    <tr style=\"text-align: right;\">\n",
              "      <th></th>\n",
              "      <th>SYMBOL</th>\n",
              "      <th>INTERVAL</th>\n",
              "      <th>DATE</th>\n",
              "      <th>OPEN</th>\n",
              "      <th>HIGH</th>\n",
              "      <th>LOW</th>\n",
              "      <th>CLOSE</th>\n",
              "      <th>VOLUME</th>\n",
              "    </tr>\n",
              "  </thead>\n",
              "  <tbody>\n",
              "    <tr>\n",
              "      <th>0</th>\n",
              "      <td>HDFC.NS</td>\n",
              "      <td>D</td>\n",
              "      <td>11/3/1994 00:00:00</td>\n",
              "      <td>2.70</td>\n",
              "      <td>2.750</td>\n",
              "      <td>2.675</td>\n",
              "      <td>2.7100</td>\n",
              "      <td>9.000000e+04</td>\n",
              "    </tr>\n",
              "    <tr>\n",
              "      <th>1</th>\n",
              "      <td>HDFC.NS</td>\n",
              "      <td>D</td>\n",
              "      <td>11/7/1994 00:00:00</td>\n",
              "      <td>2.67</td>\n",
              "      <td>2.670</td>\n",
              "      <td>2.651</td>\n",
              "      <td>2.6510</td>\n",
              "      <td>2.000000e+04</td>\n",
              "    </tr>\n",
              "    <tr>\n",
              "      <th>2</th>\n",
              "      <td>HDFC.NS</td>\n",
              "      <td>D</td>\n",
              "      <td>11/8/1994 00:00:00</td>\n",
              "      <td>2.75</td>\n",
              "      <td>2.775</td>\n",
              "      <td>2.750</td>\n",
              "      <td>2.7750</td>\n",
              "      <td>7.000000e+04</td>\n",
              "    </tr>\n",
              "    <tr>\n",
              "      <th>3</th>\n",
              "      <td>HDFC.NS</td>\n",
              "      <td>D</td>\n",
              "      <td>11/10/1994 00:00:00</td>\n",
              "      <td>2.80</td>\n",
              "      <td>2.800</td>\n",
              "      <td>2.800</td>\n",
              "      <td>2.8000</td>\n",
              "      <td>1.000000e+04</td>\n",
              "    </tr>\n",
              "    <tr>\n",
              "      <th>4</th>\n",
              "      <td>HDFC.NS</td>\n",
              "      <td>D</td>\n",
              "      <td>11/11/1994 00:00:00</td>\n",
              "      <td>2.75</td>\n",
              "      <td>2.775</td>\n",
              "      <td>2.750</td>\n",
              "      <td>2.7675</td>\n",
              "      <td>4.000000e+04</td>\n",
              "    </tr>\n",
              "    <tr>\n",
              "      <th>...</th>\n",
              "      <td>...</td>\n",
              "      <td>...</td>\n",
              "      <td>...</td>\n",
              "      <td>...</td>\n",
              "      <td>...</td>\n",
              "      <td>...</td>\n",
              "      <td>...</td>\n",
              "      <td>...</td>\n",
              "    </tr>\n",
              "    <tr>\n",
              "      <th>6346</th>\n",
              "      <td>HDFC.NS</td>\n",
              "      <td>D</td>\n",
              "      <td>5/27/2020 12:00:00 AM</td>\n",
              "      <td>1513.00</td>\n",
              "      <td>1578.000</td>\n",
              "      <td>1490.000</td>\n",
              "      <td>1570.4000</td>\n",
              "      <td>1.242843e+07</td>\n",
              "    </tr>\n",
              "    <tr>\n",
              "      <th>6347</th>\n",
              "      <td>HDFC.NS</td>\n",
              "      <td>D</td>\n",
              "      <td>5/28/2020 12:00:00 AM</td>\n",
              "      <td>1580.00</td>\n",
              "      <td>1643.800</td>\n",
              "      <td>1577.000</td>\n",
              "      <td>1623.7000</td>\n",
              "      <td>1.026203e+07</td>\n",
              "    </tr>\n",
              "    <tr>\n",
              "      <th>6348</th>\n",
              "      <td>HDFC.NS</td>\n",
              "      <td>D</td>\n",
              "      <td>5/29/2020 12:00:00 AM</td>\n",
              "      <td>1615.90</td>\n",
              "      <td>1676.350</td>\n",
              "      <td>1590.900</td>\n",
              "      <td>1658.9000</td>\n",
              "      <td>1.380910e+07</td>\n",
              "    </tr>\n",
              "    <tr>\n",
              "      <th>6349</th>\n",
              "      <td>HDFC.NS</td>\n",
              "      <td>D</td>\n",
              "      <td>6/1/2020 00:00:00</td>\n",
              "      <td>1706.60</td>\n",
              "      <td>1764.850</td>\n",
              "      <td>1701.300</td>\n",
              "      <td>1737.7000</td>\n",
              "      <td>8.056778e+06</td>\n",
              "    </tr>\n",
              "    <tr>\n",
              "      <th>6350</th>\n",
              "      <td>HDFC.NS</td>\n",
              "      <td>D</td>\n",
              "      <td>6/2/2020 00:00:00</td>\n",
              "      <td>1737.70</td>\n",
              "      <td>1783.800</td>\n",
              "      <td>1732.150</td>\n",
              "      <td>1757.5000</td>\n",
              "      <td>1.747680e+06</td>\n",
              "    </tr>\n",
              "  </tbody>\n",
              "</table>\n",
              "<p>6351 rows × 8 columns</p>\n",
              "</div>"
            ],
            "text/plain": [
              "       SYMBOL INTERVAL  ...      CLOSE        VOLUME\n",
              "0     HDFC.NS        D  ...     2.7100  9.000000e+04\n",
              "1     HDFC.NS        D  ...     2.6510  2.000000e+04\n",
              "2     HDFC.NS        D  ...     2.7750  7.000000e+04\n",
              "3     HDFC.NS        D  ...     2.8000  1.000000e+04\n",
              "4     HDFC.NS        D  ...     2.7675  4.000000e+04\n",
              "...       ...      ...  ...        ...           ...\n",
              "6346  HDFC.NS        D  ...  1570.4000  1.242843e+07\n",
              "6347  HDFC.NS        D  ...  1623.7000  1.026203e+07\n",
              "6348  HDFC.NS        D  ...  1658.9000  1.380910e+07\n",
              "6349  HDFC.NS        D  ...  1737.7000  8.056778e+06\n",
              "6350  HDFC.NS        D  ...  1757.5000  1.747680e+06\n",
              "\n",
              "[6351 rows x 8 columns]"
            ]
          },
          "metadata": {
            "tags": []
          },
          "execution_count": 6
        }
      ]
    },
    {
      "cell_type": "code",
      "metadata": {
        "id": "6HGm57j7_n7p",
        "colab_type": "code",
        "colab": {}
      },
      "source": [
        "data=hdfc.drop(['SYMBOL','INTERVAL'],axis=1)"
      ],
      "execution_count": 0,
      "outputs": []
    },
    {
      "cell_type": "code",
      "metadata": {
        "id": "Zl3MN-1XAVs-",
        "colab_type": "code",
        "colab": {
          "base_uri": "https://localhost:8080/",
          "height": 415
        },
        "outputId": "a3ebbb2a-3107-4908-8e4b-55cd35cfc7cc"
      },
      "source": [
        "data"
      ],
      "execution_count": 11,
      "outputs": [
        {
          "output_type": "execute_result",
          "data": {
            "text/html": [
              "<div>\n",
              "<style scoped>\n",
              "    .dataframe tbody tr th:only-of-type {\n",
              "        vertical-align: middle;\n",
              "    }\n",
              "\n",
              "    .dataframe tbody tr th {\n",
              "        vertical-align: top;\n",
              "    }\n",
              "\n",
              "    .dataframe thead th {\n",
              "        text-align: right;\n",
              "    }\n",
              "</style>\n",
              "<table border=\"1\" class=\"dataframe\">\n",
              "  <thead>\n",
              "    <tr style=\"text-align: right;\">\n",
              "      <th></th>\n",
              "      <th>DATE</th>\n",
              "      <th>OPEN</th>\n",
              "      <th>HIGH</th>\n",
              "      <th>LOW</th>\n",
              "      <th>CLOSE</th>\n",
              "      <th>VOLUME</th>\n",
              "    </tr>\n",
              "  </thead>\n",
              "  <tbody>\n",
              "    <tr>\n",
              "      <th>0</th>\n",
              "      <td>11/3/1994 00:00:00</td>\n",
              "      <td>2.70</td>\n",
              "      <td>2.750</td>\n",
              "      <td>2.675</td>\n",
              "      <td>2.7100</td>\n",
              "      <td>9.000000e+04</td>\n",
              "    </tr>\n",
              "    <tr>\n",
              "      <th>1</th>\n",
              "      <td>11/7/1994 00:00:00</td>\n",
              "      <td>2.67</td>\n",
              "      <td>2.670</td>\n",
              "      <td>2.651</td>\n",
              "      <td>2.6510</td>\n",
              "      <td>2.000000e+04</td>\n",
              "    </tr>\n",
              "    <tr>\n",
              "      <th>2</th>\n",
              "      <td>11/8/1994 00:00:00</td>\n",
              "      <td>2.75</td>\n",
              "      <td>2.775</td>\n",
              "      <td>2.750</td>\n",
              "      <td>2.7750</td>\n",
              "      <td>7.000000e+04</td>\n",
              "    </tr>\n",
              "    <tr>\n",
              "      <th>3</th>\n",
              "      <td>11/10/1994 00:00:00</td>\n",
              "      <td>2.80</td>\n",
              "      <td>2.800</td>\n",
              "      <td>2.800</td>\n",
              "      <td>2.8000</td>\n",
              "      <td>1.000000e+04</td>\n",
              "    </tr>\n",
              "    <tr>\n",
              "      <th>4</th>\n",
              "      <td>11/11/1994 00:00:00</td>\n",
              "      <td>2.75</td>\n",
              "      <td>2.775</td>\n",
              "      <td>2.750</td>\n",
              "      <td>2.7675</td>\n",
              "      <td>4.000000e+04</td>\n",
              "    </tr>\n",
              "    <tr>\n",
              "      <th>...</th>\n",
              "      <td>...</td>\n",
              "      <td>...</td>\n",
              "      <td>...</td>\n",
              "      <td>...</td>\n",
              "      <td>...</td>\n",
              "      <td>...</td>\n",
              "    </tr>\n",
              "    <tr>\n",
              "      <th>6346</th>\n",
              "      <td>5/27/2020 12:00:00 AM</td>\n",
              "      <td>1513.00</td>\n",
              "      <td>1578.000</td>\n",
              "      <td>1490.000</td>\n",
              "      <td>1570.4000</td>\n",
              "      <td>1.242843e+07</td>\n",
              "    </tr>\n",
              "    <tr>\n",
              "      <th>6347</th>\n",
              "      <td>5/28/2020 12:00:00 AM</td>\n",
              "      <td>1580.00</td>\n",
              "      <td>1643.800</td>\n",
              "      <td>1577.000</td>\n",
              "      <td>1623.7000</td>\n",
              "      <td>1.026203e+07</td>\n",
              "    </tr>\n",
              "    <tr>\n",
              "      <th>6348</th>\n",
              "      <td>5/29/2020 12:00:00 AM</td>\n",
              "      <td>1615.90</td>\n",
              "      <td>1676.350</td>\n",
              "      <td>1590.900</td>\n",
              "      <td>1658.9000</td>\n",
              "      <td>1.380910e+07</td>\n",
              "    </tr>\n",
              "    <tr>\n",
              "      <th>6349</th>\n",
              "      <td>6/1/2020 00:00:00</td>\n",
              "      <td>1706.60</td>\n",
              "      <td>1764.850</td>\n",
              "      <td>1701.300</td>\n",
              "      <td>1737.7000</td>\n",
              "      <td>8.056778e+06</td>\n",
              "    </tr>\n",
              "    <tr>\n",
              "      <th>6350</th>\n",
              "      <td>6/2/2020 00:00:00</td>\n",
              "      <td>1737.70</td>\n",
              "      <td>1783.800</td>\n",
              "      <td>1732.150</td>\n",
              "      <td>1757.5000</td>\n",
              "      <td>1.747680e+06</td>\n",
              "    </tr>\n",
              "  </tbody>\n",
              "</table>\n",
              "<p>6351 rows × 6 columns</p>\n",
              "</div>"
            ],
            "text/plain": [
              "                       DATE     OPEN  ...      CLOSE        VOLUME\n",
              "0        11/3/1994 00:00:00     2.70  ...     2.7100  9.000000e+04\n",
              "1        11/7/1994 00:00:00     2.67  ...     2.6510  2.000000e+04\n",
              "2        11/8/1994 00:00:00     2.75  ...     2.7750  7.000000e+04\n",
              "3       11/10/1994 00:00:00     2.80  ...     2.8000  1.000000e+04\n",
              "4       11/11/1994 00:00:00     2.75  ...     2.7675  4.000000e+04\n",
              "...                     ...      ...  ...        ...           ...\n",
              "6346  5/27/2020 12:00:00 AM  1513.00  ...  1570.4000  1.242843e+07\n",
              "6347  5/28/2020 12:00:00 AM  1580.00  ...  1623.7000  1.026203e+07\n",
              "6348  5/29/2020 12:00:00 AM  1615.90  ...  1658.9000  1.380910e+07\n",
              "6349      6/1/2020 00:00:00  1706.60  ...  1737.7000  8.056778e+06\n",
              "6350      6/2/2020 00:00:00  1737.70  ...  1757.5000  1.747680e+06\n",
              "\n",
              "[6351 rows x 6 columns]"
            ]
          },
          "metadata": {
            "tags": []
          },
          "execution_count": 11
        }
      ]
    },
    {
      "cell_type": "code",
      "metadata": {
        "id": "kqfOcQfjAbZM",
        "colab_type": "code",
        "colab": {}
      },
      "source": [
        ""
      ],
      "execution_count": 0,
      "outputs": []
    }
  ]
}